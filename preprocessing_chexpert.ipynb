{
 "cells": [
  {
   "cell_type": "code",
   "execution_count": 9,
   "metadata": {},
   "outputs": [],
   "source": [
    "import pandas as pd\n",
    "import numpy as np\n",
    "from sklearn.utils import shuffle\n",
    "from sklearn.model_selection import train_test_split"
   ]
  },
  {
   "cell_type": "code",
   "execution_count": 15,
   "metadata": {},
   "outputs": [],
   "source": [
    "# path='/local/nhulkund/UROP/Chexpert/data/CheXpert-v1.0-small/'\n",
    "path = \"/om/user/shobhita/src/chexpert/data/CheXpert-v1.0-small/\"\n",
    "train=pd.read_csv(path+'train.csv')\n",
    "label_cols=train.columns[5:]\n",
    "train[label_cols]=train[label_cols].fillna(0.0)\n",
    "train[label_cols]=train[label_cols].replace(-1.0,1.0)\n",
    "train[\"ID\"] = train[\"Path\"].apply(lambda x: x.split(\"patient\")[1].split(\"/\")[0])"
   ]
  },
  {
   "cell_type": "code",
   "execution_count": 41,
   "metadata": {},
   "outputs": [],
   "source": [
    "train_patients, test_patients = train_test_split(train_shuffled[\"ID\"].unique(), test_size=0.1)\n",
    "train_split, test_split = train_shuffled[train_shuffled[\"ID\"].isin(train_patients)], train_shuffled[train_shuffled[\"ID\"].isin(test_patients)]"
   ]
  },
  {
   "cell_type": "code",
   "execution_count": 44,
   "metadata": {},
   "outputs": [],
   "source": [
    "train_split.to_csv(path + \"train_preprocessed.csv\")\n",
    "test_split.to_csv(path + \"test_preprocessed.csv\")"
   ]
  },
  {
   "cell_type": "code",
   "execution_count": null,
   "metadata": {},
   "outputs": [],
   "source": []
  },
  {
   "cell_type": "code",
   "execution_count": null,
   "metadata": {},
   "outputs": [],
   "source": []
  },
  {
   "cell_type": "code",
   "execution_count": 31,
   "metadata": {},
   "outputs": [],
   "source": [
    "valid=pd.read_csv(path+'valid.csv')\n",
    "label_cols=train.columns[5:]\n",
    "valid[label_cols]=valid[label_cols].fillna(0.0)\n",
    "valid[label_cols]=valid[label_cols].replace(-1.0,1.0)\n",
    "valid.to_csv(path+\"valid_preprocessed.csv\")"
   ]
  },
  {
   "cell_type": "code",
   "execution_count": 33,
   "metadata": {},
   "outputs": [
    {
     "name": "stdout",
     "output_type": "stream",
     "text": [
      "Index(['No Finding', 'Enlarged Cardiomediastinum', 'Cardiomegaly',\n",
      "       'Lung Opacity', 'Lung Lesion', 'Edema', 'Consolidation', 'Pneumonia',\n",
      "       'Atelectasis', 'Pneumothorax', 'Pleural Effusion', 'Pleural Other',\n",
      "       'Fracture', 'Support Devices'],\n",
      "      dtype='object')\n"
     ]
    }
   ],
   "source": [
    "print(train.columns[5:])"
   ]
  },
  {
   "cell_type": "code",
   "execution_count": null,
   "metadata": {},
   "outputs": [],
   "source": []
  }
 ],
 "metadata": {
  "kernelspec": {
   "display_name": "Python 3",
   "language": "python",
   "name": "python3"
  },
  "language_info": {
   "codemirror_mode": {
    "name": "ipython",
    "version": 3
   },
   "file_extension": ".py",
   "mimetype": "text/x-python",
   "name": "python",
   "nbconvert_exporter": "python",
   "pygments_lexer": "ipython3",
   "version": "3.6.9"
  }
 },
 "nbformat": 4,
 "nbformat_minor": 5
}
