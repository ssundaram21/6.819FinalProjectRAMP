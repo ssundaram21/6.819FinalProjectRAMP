{
 "cells": [
  {
   "cell_type": "code",
   "execution_count": 3,
   "id": "lightweight-provider",
   "metadata": {},
   "outputs": [],
   "source": [
    "import pandas as pd\n",
    "import numpy as np"
   ]
  },
  {
   "cell_type": "code",
   "execution_count": 30,
   "id": "primary-reverse",
   "metadata": {},
   "outputs": [],
   "source": [
    "path='/local/nhulkund/UROP/Chexpert/data/CheXpert-v1.0-small/'\n",
    "train=pd.read_csv(path+'train.csv')\n",
    "label_cols=train.columns[5:]\n",
    "train[label_cols]=train[label_cols].fillna(0.0)\n",
    "train[label_cols]=train[label_cols].replace(-1.0,1.0)\n",
    "train.to_csv(path+\"train_preprocessed.csv\")"
   ]
  },
  {
   "cell_type": "code",
   "execution_count": 31,
   "id": "forbidden-campbell",
   "metadata": {},
   "outputs": [],
   "source": [
    "valid=pd.read_csv(path+'valid.csv')\n",
    "label_cols=train.columns[5:]\n",
    "valid[label_cols]=valid[label_cols].fillna(0.0)\n",
    "valid[label_cols]=valid[label_cols].replace(-1.0,1.0)\n",
    "valid.to_csv(path+\"valid_preprocessed.csv\")"
   ]
  },
  {
   "cell_type": "code",
   "execution_count": null,
   "id": "preceding-membrane",
   "metadata": {},
   "outputs": [],
   "source": []
  }
 ],
 "metadata": {
  "kernelspec": {
   "display_name": "Python 3",
   "language": "python",
   "name": "python3"
  },
  "language_info": {
   "codemirror_mode": {
    "name": "ipython",
    "version": 3
   },
   "file_extension": ".py",
   "mimetype": "text/x-python",
   "name": "python",
   "nbconvert_exporter": "python",
   "pygments_lexer": "ipython3",
   "version": "3.8.8"
  }
 },
 "nbformat": 4,
 "nbformat_minor": 5
}
